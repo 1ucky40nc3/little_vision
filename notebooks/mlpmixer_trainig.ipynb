{
  "nbformat": 4,
  "nbformat_minor": 0,
  "metadata": {
    "colab": {
      "name": "mlpmixer_trainig.ipynb",
      "provenance": [],
      "collapsed_sections": []
    },
    "kernelspec": {
      "name": "python3",
      "display_name": "Python 3"
    },
    "language_info": {
      "name": "python"
    }
  },
  "cells": [
    {
      "cell_type": "markdown",
      "source": [
        "# Installation"
      ],
      "metadata": {
        "id": "hRhHYQN_sycA"
      }
    },
    {
      "cell_type": "code",
      "source": [
        "!pip install timm==0.4.5\n",
        "!pip install torch==1.10.1+cu111 torchvision==0.11.2+cu111 torchaudio==0.10.1 -f https://download.pytorch.org/whl/torch_stable.html\n",
        "!pip install wandb"
      ],
      "metadata": {
        "id": "rlB5c9Nrs684"
      },
      "execution_count": null,
      "outputs": []
    },
    {
      "cell_type": "code",
      "source": [
        "!git clone https://github.com/NVIDIA/apex\n",
        "%cd apex\n",
        "!pip install -v --disable-pip-version-check --no-cache-dir --global-option=\"--cpp_ext\" --global-option=\"--cuda_ext\" ./\n",
        "%cd .."
      ],
      "metadata": {
        "id": "xGjyrO3Rs8bZ"
      },
      "execution_count": null,
      "outputs": []
    },
    {
      "cell_type": "code",
      "source": [
        "!git clone https://github.com/rwightman/pytorch-image-models.git\n",
        "%cd pytorch-image-models"
      ],
      "metadata": {
        "id": "dyFaPf9ttFDR"
      },
      "execution_count": null,
      "outputs": []
    },
    {
      "cell_type": "markdown",
      "source": [
        "# Train!"
      ],
      "metadata": {
        "id": "3jVXpDrPtIRW"
      }
    },
    {
      "cell_type": "code",
      "source": [
        "!python /content/pytorch-image-models/train.py . \\\n",
        "  --dataset torch/cifar100 \\\n",
        "  --dataset-download \\\n",
        "  --model mixer_s32_224 \\\n",
        "  --pretrained \\\n",
        "  --num-classes 100 \\\n",
        "  --opt sgd \\\n",
        "  --clip-grad 1 \\\n",
        "  --sched cosine \\\n",
        "  --smoothing 0. \\\n",
        "  --workers 2 \\\n",
        "  --pin-mem \\\n",
        "  --log-wandb"
      ],
      "metadata": {
        "id": "YFIP6o_GtJtB"
      },
      "execution_count": null,
      "outputs": []
    }
  ]
}